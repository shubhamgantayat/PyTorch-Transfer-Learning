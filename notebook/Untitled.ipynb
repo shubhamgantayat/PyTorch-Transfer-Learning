{
 "cells": [
  {
   "cell_type": "code",
   "execution_count": 37,
   "id": "e6407e39",
   "metadata": {},
   "outputs": [],
   "source": [
    "import os\n",
    "import pandas as pd\n",
    "import numpy as np\n",
    "import seaborn as sns\n",
    "import matplotlib.pyplot as plt\n",
    "import torch\n",
    "import torch.nn as nn\n",
    "import torch.nn.functional as F\n",
    "from torch.utils.data import DataLoader\n",
    "from torchvision import transforms, datasets, models\n",
    "from sklearn.metrics import confusion_matrix\n",
    "from tqdm import tqdm\n",
    "import urllib.request as request"
   ]
  },
  {
   "cell_type": "code",
   "execution_count": 2,
   "id": "5c45c967",
   "metadata": {},
   "outputs": [],
   "source": []
  },
  {
   "cell_type": "code",
   "execution_count": null,
   "id": "1806ef2c",
   "metadata": {},
   "outputs": [],
   "source": []
  },
  {
   "cell_type": "code",
   "execution_count": null,
   "id": "95c2e1ce",
   "metadata": {},
   "outputs": [],
   "source": []
  },
  {
   "cell_type": "code",
   "execution_count": null,
   "id": "b6a7b720",
   "metadata": {},
   "outputs": [],
   "source": []
  },
  {
   "cell_type": "code",
   "execution_count": null,
   "id": "e55ce7a3",
   "metadata": {},
   "outputs": [],
   "source": []
  },
  {
   "cell_type": "code",
   "execution_count": 14,
   "id": "5f870f4d",
   "metadata": {},
   "outputs": [
    {
     "name": "stdout",
     "output_type": "stream",
     "text": [
      "this notebook is using device : cpu\n"
     ]
    }
   ],
   "source": [
    "class Config:\n",
    "    \n",
    "    def __init__(self):\n",
    "        self.ROOT_DATA_DIR = \"hymenoptera_data\"\n",
    "        self.EPOCH = 10\n",
    "        self.BATCH_SIZE = 32\n",
    "        self.LEARNING_RATE = 0.01\n",
    "        self.IMAGE_SIZE = (224, 224)\n",
    "        self.DEVICE = \"cuda\" if torch.cuda.is_available() else \"cpu\"\n",
    "        print(f\"this notebook is using device : {self.DEVICE}\")\n",
    "        self.SEED = 2022\n",
    "        \n",
    "    def create_dir(self, dir_path):\n",
    "        os.makedirs(dir_path, exist_ok=True)\n",
    "        print(f\"{dir_path} directory is created.\")\n",
    "        \n",
    "config = Config()"
   ]
  },
  {
   "cell_type": "code",
   "execution_count": 4,
   "id": "c01ea967",
   "metadata": {},
   "outputs": [],
   "source": [
    "data_URL = \"https://download.pytorch.org/tutorial/hymenoptera_data.zip\""
   ]
  },
  {
   "cell_type": "code",
   "execution_count": 6,
   "id": "714225b6",
   "metadata": {},
   "outputs": [
    {
     "name": "stdout",
     "output_type": "stream",
     "text": [
      "hymenoptera_data directory is created.\n"
     ]
    }
   ],
   "source": [
    "config.create_dir(dir_path=config.ROOT_DATA_DIR)"
   ]
  },
  {
   "cell_type": "code",
   "execution_count": 7,
   "id": "81904358",
   "metadata": {},
   "outputs": [
    {
     "data": {
      "text/plain": [
       "('hymenoptera_data\\\\data.zip', <http.client.HTTPMessage at 0x26767e0b880>)"
      ]
     },
     "execution_count": 7,
     "metadata": {},
     "output_type": "execute_result"
    }
   ],
   "source": [
    "data_zip_file = \"data.zip\"\n",
    "data_file_path = os.path.join(config.ROOT_DATA_DIR, data_zip_file)\n",
    "request.urlretrieve(data_URL, data_file_path)"
   ]
  },
  {
   "cell_type": "code",
   "execution_count": 8,
   "id": "2a3238d7",
   "metadata": {},
   "outputs": [],
   "source": [
    "from zipfile import ZipFile"
   ]
  },
  {
   "cell_type": "code",
   "execution_count": 10,
   "id": "01fea71d",
   "metadata": {},
   "outputs": [],
   "source": [
    "def unzip_file(source: str, dest: str) -> None:\n",
    "    print(\"Extraction started\")\n",
    "    with ZipFile(source, \"r\") as zip_f:\n",
    "        zip_f.extractall(dest)"
   ]
  },
  {
   "cell_type": "code",
   "execution_count": 11,
   "id": "05af2044",
   "metadata": {},
   "outputs": [
    {
     "name": "stdout",
     "output_type": "stream",
     "text": [
      "Extraction started\n"
     ]
    }
   ],
   "source": [
    "unzip_file('hymenoptera_data\\\\data.zip', config.ROOT_DATA_DIR)"
   ]
  },
  {
   "cell_type": "markdown",
   "id": "37bcc40c",
   "metadata": {},
   "source": [
    "## Create Data Loaders"
   ]
  },
  {
   "cell_type": "code",
   "execution_count": 12,
   "id": "df34a8ce",
   "metadata": {},
   "outputs": [],
   "source": [
    " from pathlib import Path"
   ]
  },
  {
   "cell_type": "code",
   "execution_count": 13,
   "id": "2e623c0a",
   "metadata": {},
   "outputs": [],
   "source": [
    "train_path = Path(\"hymenoptera_data/hymenoptera_data/train\")\n",
    "test_path = Path(\"hymenoptera_data/hymenoptera_data/val\")"
   ]
  },
  {
   "cell_type": "code",
   "execution_count": 15,
   "id": "cbeda9fc",
   "metadata": {},
   "outputs": [],
   "source": [
    "mean = torch.tensor([0.5, 0.5, 0.5])\n",
    "std = torch.tensor([0.5, 0.5, 0.5])"
   ]
  },
  {
   "cell_type": "code",
   "execution_count": 16,
   "id": "7f0796f9",
   "metadata": {},
   "outputs": [],
   "source": [
    "train_transforms = transforms.Compose([\n",
    "    transforms.Resize(config.IMAGE_SIZE),\n",
    "    transforms.RandomRotation(degrees=20),\n",
    "    transforms.ToTensor(),\n",
    "    transforms.Normalize(mean, std)\n",
    "])\n",
    "\n",
    "test_transforms = transforms.Compose([\n",
    "    transforms.Resize(config.IMAGE_SIZE),\n",
    "    transforms.ToTensor(),\n",
    "    transforms.Normalize(mean, std)\n",
    "])"
   ]
  },
  {
   "cell_type": "code",
   "execution_count": 17,
   "id": "1efb4ccb",
   "metadata": {},
   "outputs": [],
   "source": [
    "train_data = datasets.ImageFolder(root=train_path, transform=train_transforms)\n",
    "test_data = datasets.ImageFolder(root=test_path, transform=test_transforms)"
   ]
  },
  {
   "cell_type": "code",
   "execution_count": 18,
   "id": "b6041935",
   "metadata": {},
   "outputs": [
    {
     "data": {
      "text/plain": [
       "{'ants': 0, 'bees': 1}"
      ]
     },
     "execution_count": 18,
     "metadata": {},
     "output_type": "execute_result"
    }
   ],
   "source": [
    "train_data.class_to_idx"
   ]
  },
  {
   "cell_type": "code",
   "execution_count": 20,
   "id": "0960b4c4",
   "metadata": {},
   "outputs": [
    {
     "data": {
      "text/plain": [
       "{'ants': 0, 'bees': 1}"
      ]
     },
     "execution_count": 20,
     "metadata": {},
     "output_type": "execute_result"
    }
   ],
   "source": [
    "test_data.class_to_idx"
   ]
  },
  {
   "cell_type": "code",
   "execution_count": 21,
   "id": "de165c87",
   "metadata": {},
   "outputs": [
    {
     "data": {
      "text/plain": [
       "{'ants': 0, 'bees': 1}"
      ]
     },
     "execution_count": 21,
     "metadata": {},
     "output_type": "execute_result"
    }
   ],
   "source": [
    "label_map = train_data.class_to_idx\n",
    "label_map"
   ]
  },
  {
   "cell_type": "code",
   "execution_count": 22,
   "id": "2aed70e5",
   "metadata": {},
   "outputs": [],
   "source": [
    "train_loader = DataLoader(train_data, shuffle=True, batch_size=config.BATCH_SIZE)\n",
    "test_loader = DataLoader(test_data, shuffle=False, batch_size=config.BATCH_SIZE)"
   ]
  },
  {
   "cell_type": "code",
   "execution_count": 23,
   "id": "a57954a5",
   "metadata": {},
   "outputs": [],
   "source": [
    "data = next(iter(train_loader))"
   ]
  },
  {
   "cell_type": "code",
   "execution_count": 24,
   "id": "d7bc5ad2",
   "metadata": {},
   "outputs": [
    {
     "data": {
      "text/plain": [
       "2"
      ]
     },
     "execution_count": 24,
     "metadata": {},
     "output_type": "execute_result"
    }
   ],
   "source": [
    "len(data)"
   ]
  },
  {
   "cell_type": "code",
   "execution_count": 25,
   "id": "2d8f4059",
   "metadata": {},
   "outputs": [],
   "source": [
    "images, labels = data"
   ]
  },
  {
   "cell_type": "code",
   "execution_count": 26,
   "id": "12bbe45a",
   "metadata": {},
   "outputs": [
    {
     "data": {
      "text/plain": [
       "(torch.Size([32, 3, 224, 224]), torch.Size([32]))"
      ]
     },
     "execution_count": 26,
     "metadata": {},
     "output_type": "execute_result"
    }
   ],
   "source": [
    "images.shape, labels.shape"
   ]
  },
  {
   "cell_type": "code",
   "execution_count": null,
   "id": "f2114493",
   "metadata": {},
   "outputs": [],
   "source": []
  },
  {
   "cell_type": "markdown",
   "id": "7880d82d",
   "metadata": {},
   "source": [
    "## Visualize one of the sample"
   ]
  },
  {
   "cell_type": "code",
   "execution_count": 27,
   "id": "b50bae5d",
   "metadata": {},
   "outputs": [],
   "source": [
    "img = images[0]"
   ]
  },
  {
   "cell_type": "code",
   "execution_count": 35,
   "id": "f32a0256",
   "metadata": {},
   "outputs": [
    {
     "data": {
      "text/plain": [
       "torch.Size([3, 224, 224])"
      ]
     },
     "execution_count": 35,
     "metadata": {},
     "output_type": "execute_result"
    }
   ],
   "source": [
    "img.shape"
   ]
  },
  {
   "cell_type": "code",
   "execution_count": 36,
   "id": "3ac2ec28",
   "metadata": {},
   "outputs": [
    {
     "name": "stderr",
     "output_type": "stream",
     "text": [
      "Clipping input data to the valid range for imshow with RGB data ([0..1] for floats or [0..255] for integers).\n"
     ]
    },
    {
     "data": {
      "text/plain": [
       "<matplotlib.image.AxesImage at 0x26768028fd0>"
      ]
     },
     "execution_count": 36,
     "metadata": {},
     "output_type": "execute_result"
    },
    {
     "data": {
      "image/png": "[encoded data removed]",
      "text/plain": [
       "<Figure size 432x288 with 1 Axes>"
      ]
     },
     "metadata": {
      "needs_background": "light"
     },
     "output_type": "display_data"
    }
   ],
   "source": [
    "plt.imshow(img.permute(1,2,0))"
   ]
  },
  {
   "cell_type": "markdown",
   "id": "0076d292",
   "metadata": {},
   "source": [
    "## Download and use a pretrained model for transfer learning"
   ]
  },
  {
   "cell_type": "code",
   "execution_count": 38,
   "id": "dccde03b",
   "metadata": {},
   "outputs": [
    {
     "name": "stderr",
     "output_type": "stream",
     "text": [
      "Downloading: \"https://download.pytorch.org/models/alexnet-owt-7be5be79.pth\" to C:\\Users\\ASUS/.cache\\torch\\hub\\checkpoints\\alexnet-owt-7be5be79.pth\n"
     ]
    },
    {
     "data": {
      "application/vnd.jupyter.widget-view+json": {
       "model_id": "57ce1f3513c84010bdea80d34d6c578f",
       "version_major": 2,
       "version_minor": 0
      },
      "text/plain": [
       "  0%|          | 0.00/233M [00:00<?, ?B/s]"
      ]
     },
     "metadata": {},
     "output_type": "display_data"
    }
   ],
   "source": [
    "model = models.alexnet(pretrained=True)"
   ]
  },
  {
   "cell_type": "code",
   "execution_count": 39,
   "id": "1a23b1b1",
   "metadata": {},
   "outputs": [
    {
     "name": "stdout",
     "output_type": "stream",
     "text": [
      "AlexNet(\n",
      "  (features): Sequential(\n",
      "    (0): Conv2d(3, 64, kernel_size=(11, 11), stride=(4, 4), padding=(2, 2))\n",
      "    (1): ReLU(inplace=True)\n",
      "    (2): MaxPool2d(kernel_size=3, stride=2, padding=0, dilation=1, ceil_mode=False)\n",
      "    (3): Conv2d(64, 192, kernel_size=(5, 5), stride=(1, 1), padding=(2, 2))\n",
      "    (4): ReLU(inplace=True)\n",
      "    (5): MaxPool2d(kernel_size=3, stride=2, padding=0, dilation=1, ceil_mode=False)\n",
      "    (6): Conv2d(192, 384, kernel_size=(3, 3), stride=(1, 1), padding=(1, 1))\n",
      "    (7): ReLU(inplace=True)\n",
      "    (8): Conv2d(384, 256, kernel_size=(3, 3), stride=(1, 1), padding=(1, 1))\n",
      "    (9): ReLU(inplace=True)\n",
      "    (10): Conv2d(256, 256, kernel_size=(3, 3), stride=(1, 1), padding=(1, 1))\n",
      "    (11): ReLU(inplace=True)\n",
      "    (12): MaxPool2d(kernel_size=3, stride=2, padding=0, dilation=1, ceil_mode=False)\n",
      "  )\n",
      "  (avgpool): AdaptiveAvgPool2d(output_size=(6, 6))\n",
      "  (classifier): Sequential(\n",
      "    (0): Dropout(p=0.5, inplace=False)\n",
      "    (1): Linear(in_features=9216, out_features=4096, bias=True)\n",
      "    (2): ReLU(inplace=True)\n",
      "    (3): Dropout(p=0.5, inplace=False)\n",
      "    (4): Linear(in_features=4096, out_features=4096, bias=True)\n",
      "    (5): ReLU(inplace=True)\n",
      "    (6): Linear(in_features=4096, out_features=1000, bias=True)\n",
      "  )\n",
      ")\n"
     ]
    }
   ],
   "source": [
    "print(model)"
   ]
  },
  {
   "cell_type": "code",
   "execution_count": null,
   "id": "39a0406c",
   "metadata": {},
   "outputs": [],
   "source": []
  },
  {
   "cell_type": "markdown",
   "id": "0b047f72",
   "metadata": {},
   "source": [
    "## Count the no of trainable parameters"
   ]
  },
  {
   "cell_type": "code",
   "execution_count": 41,
   "id": "6d23ec40",
   "metadata": {},
   "outputs": [
    {
     "data": {
      "text/html": [
       "<style type=\"text/css\">\n",
       "</style>\n",
       "<table id=\"T_d044a\">\n",
       "  <caption>Total parameters: {'trainable': 61100840, 'non_trainable': 0}</caption>\n",
       "  <thead>\n",
       "    <tr>\n",
       "      <th class=\"blank level0\" >&nbsp;</th>\n",
       "      <th id=\"T_d044a_level0_col0\" class=\"col_heading level0 col0\" >Modules</th>\n",
       "      <th id=\"T_d044a_level0_col1\" class=\"col_heading level0 col1\" >Parameters</th>\n",
       "    </tr>\n",
       "  </thead>\n",
       "  <tbody>\n",
       "    <tr>\n",
       "      <th id=\"T_d044a_level0_row0\" class=\"row_heading level0 row0\" >0</th>\n",
       "      <td id=\"T_d044a_row0_col0\" class=\"data row0 col0\" >features.0.weight</td>\n",
       "      <td id=\"T_d044a_row0_col1\" class=\"data row0 col1\" >features.0.weight</td>\n",
       "    </tr>\n",
       "    <tr>\n",
       "      <th id=\"T_d044a_level0_row1\" class=\"row_heading level0 row1\" >1</th>\n",
       "      <td id=\"T_d044a_row1_col0\" class=\"data row1 col0\" >features.0.bias</td>\n",
       "      <td id=\"T_d044a_row1_col1\" class=\"data row1 col1\" >features.0.bias</td>\n",
       "    </tr>\n",
       "    <tr>\n",
       "      <th id=\"T_d044a_level0_row2\" class=\"row_heading level0 row2\" >2</th>\n",
       "      <td id=\"T_d044a_row2_col0\" class=\"data row2 col0\" >features.3.weight</td>\n",
       "      <td id=\"T_d044a_row2_col1\" class=\"data row2 col1\" >features.3.weight</td>\n",
       "    </tr>\n",
       "    <tr>\n",
       "      <th id=\"T_d044a_level0_row3\" class=\"row_heading level0 row3\" >3</th>\n",
       "      <td id=\"T_d044a_row3_col0\" class=\"data row3 col0\" >features.3.bias</td>\n",
       "      <td id=\"T_d044a_row3_col1\" class=\"data row3 col1\" >features.3.bias</td>\n",
       "    </tr>\n",
       "    <tr>\n",
       "      <th id=\"T_d044a_level0_row4\" class=\"row_heading level0 row4\" >4</th>\n",
       "      <td id=\"T_d044a_row4_col0\" class=\"data row4 col0\" >features.6.weight</td>\n",
       "      <td id=\"T_d044a_row4_col1\" class=\"data row4 col1\" >features.6.weight</td>\n",
       "    </tr>\n",
       "    <tr>\n",
       "      <th id=\"T_d044a_level0_row5\" class=\"row_heading level0 row5\" >5</th>\n",
       "      <td id=\"T_d044a_row5_col0\" class=\"data row5 col0\" >features.6.bias</td>\n",
       "      <td id=\"T_d044a_row5_col1\" class=\"data row5 col1\" >features.6.bias</td>\n",
       "    </tr>\n",
       "    <tr>\n",
       "      <th id=\"T_d044a_level0_row6\" class=\"row_heading level0 row6\" >6</th>\n",
       "      <td id=\"T_d044a_row6_col0\" class=\"data row6 col0\" >features.8.weight</td>\n",
       "      <td id=\"T_d044a_row6_col1\" class=\"data row6 col1\" >features.8.weight</td>\n",
       "    </tr>\n",
       "    <tr>\n",
       "      <th id=\"T_d044a_level0_row7\" class=\"row_heading level0 row7\" >7</th>\n",
       "      <td id=\"T_d044a_row7_col0\" class=\"data row7 col0\" >features.8.bias</td>\n",
       "      <td id=\"T_d044a_row7_col1\" class=\"data row7 col1\" >features.8.bias</td>\n",
       "    </tr>\n",
       "    <tr>\n",
       "      <th id=\"T_d044a_level0_row8\" class=\"row_heading level0 row8\" >8</th>\n",
       "      <td id=\"T_d044a_row8_col0\" class=\"data row8 col0\" >features.10.weight</td>\n",
       "      <td id=\"T_d044a_row8_col1\" class=\"data row8 col1\" >features.10.weight</td>\n",
       "    </tr>\n",
       "    <tr>\n",
       "      <th id=\"T_d044a_level0_row9\" class=\"row_heading level0 row9\" >9</th>\n",
       "      <td id=\"T_d044a_row9_col0\" class=\"data row9 col0\" >features.10.bias</td>\n",
       "      <td id=\"T_d044a_row9_col1\" class=\"data row9 col1\" >features.10.bias</td>\n",
       "    </tr>\n",
       "    <tr>\n",
       "      <th id=\"T_d044a_level0_row10\" class=\"row_heading level0 row10\" >10</th>\n",
       "      <td id=\"T_d044a_row10_col0\" class=\"data row10 col0\" >classifier.1.weight</td>\n",
       "      <td id=\"T_d044a_row10_col1\" class=\"data row10 col1\" >classifier.1.weight</td>\n",
       "    </tr>\n",
       "    <tr>\n",
       "      <th id=\"T_d044a_level0_row11\" class=\"row_heading level0 row11\" >11</th>\n",
       "      <td id=\"T_d044a_row11_col0\" class=\"data row11 col0\" >classifier.1.bias</td>\n",
       "      <td id=\"T_d044a_row11_col1\" class=\"data row11 col1\" >classifier.1.bias</td>\n",
       "    </tr>\n",
       "    <tr>\n",
       "      <th id=\"T_d044a_level0_row12\" class=\"row_heading level0 row12\" >12</th>\n",
       "      <td id=\"T_d044a_row12_col0\" class=\"data row12 col0\" >classifier.4.weight</td>\n",
       "      <td id=\"T_d044a_row12_col1\" class=\"data row12 col1\" >classifier.4.weight</td>\n",
       "    </tr>\n",
       "    <tr>\n",
       "      <th id=\"T_d044a_level0_row13\" class=\"row_heading level0 row13\" >13</th>\n",
       "      <td id=\"T_d044a_row13_col0\" class=\"data row13 col0\" >classifier.4.bias</td>\n",
       "      <td id=\"T_d044a_row13_col1\" class=\"data row13 col1\" >classifier.4.bias</td>\n",
       "    </tr>\n",
       "    <tr>\n",
       "      <th id=\"T_d044a_level0_row14\" class=\"row_heading level0 row14\" >14</th>\n",
       "      <td id=\"T_d044a_row14_col0\" class=\"data row14 col0\" >classifier.6.weight</td>\n",
       "      <td id=\"T_d044a_row14_col1\" class=\"data row14 col1\" >classifier.6.weight</td>\n",
       "    </tr>\n",
       "    <tr>\n",
       "      <th id=\"T_d044a_level0_row15\" class=\"row_heading level0 row15\" >15</th>\n",
       "      <td id=\"T_d044a_row15_col0\" class=\"data row15 col0\" >classifier.6.bias</td>\n",
       "      <td id=\"T_d044a_row15_col1\" class=\"data row15 col1\" >classifier.6.bias</td>\n",
       "    </tr>\n",
       "  </tbody>\n",
       "</table>\n"
      ],
      "text/plain": [
       "<pandas.io.formats.style.Styler at 0x2677bc47340>"
      ]
     },
     "execution_count": 41,
     "metadata": {},
     "output_type": "execute_result"
    }
   ],
   "source": [
    "from pyparsing.core import ParseAction\n",
    "\n",
    "def count_params(model):\n",
    "    model_params = {\"Modules\": list(), \"Parameters\": list()}\n",
    "    total = {\"trainable\": 0, \"non_trainable\": 0}\n",
    "    for name, parameters in model.named_parameters():\n",
    "        # numel() returns the total no. of elements in the tensor\n",
    "        param = parameters.numel()\n",
    "        if not parameters.requires_grad:\n",
    "            total[\"non_trainable\"] += param\n",
    "            continue\n",
    "        model_params[\"Modules\"].append(name)\n",
    "        model_params[\"Parameters\"].append(name)\n",
    "        total[\"trainable\"] += param\n",
    "\n",
    "    df = pd.DataFrame(model_params)\n",
    "    df = df.style.set_caption(f\"Total parameters: {total}\")\n",
    "    return df\n",
    "\n",
    "count_params(model) "
   ]
  },
  {
   "cell_type": "code",
   "execution_count": 42,
   "id": "e726bb37",
   "metadata": {},
   "outputs": [],
   "source": [
    "# Freeze all the layers\n",
    "\n",
    "for parameters in model.parameters():\n",
    "    parameters.requires_grad = False"
   ]
  },
  {
   "cell_type": "code",
   "execution_count": 44,
   "id": "64944318",
   "metadata": {},
   "outputs": [
    {
     "data": {
      "text/html": [
       "<style type=\"text/css\">\n",
       "</style>\n",
       "<table id=\"T_9ac2d\">\n",
       "  <caption>Total parameters: {'trainable': 0, 'non_trainable': 61100840}</caption>\n",
       "  <thead>\n",
       "    <tr>\n",
       "      <th class=\"blank level0\" >&nbsp;</th>\n",
       "      <th id=\"T_9ac2d_level0_col0\" class=\"col_heading level0 col0\" >Modules</th>\n",
       "      <th id=\"T_9ac2d_level0_col1\" class=\"col_heading level0 col1\" >Parameters</th>\n",
       "    </tr>\n",
       "  </thead>\n",
       "  <tbody>\n",
       "  </tbody>\n",
       "</table>\n"
      ],
      "text/plain": [
       "<pandas.io.formats.style.Styler at 0x26767d643d0>"
      ]
     },
     "execution_count": 44,
     "metadata": {},
     "output_type": "execute_result"
    }
   ],
   "source": [
    "count_params(model)"
   ]
  },
  {
   "cell_type": "code",
   "execution_count": 45,
   "id": "4d82abcb",
   "metadata": {},
   "outputs": [
    {
     "data": {
      "text/plain": [
       "Sequential(\n",
       "  (0): Dropout(p=0.5, inplace=False)\n",
       "  (1): Linear(in_features=9216, out_features=4096, bias=True)\n",
       "  (2): ReLU(inplace=True)\n",
       "  (3): Dropout(p=0.5, inplace=False)\n",
       "  (4): Linear(in_features=4096, out_features=4096, bias=True)\n",
       "  (5): ReLU(inplace=True)\n",
       "  (6): Linear(in_features=4096, out_features=1000, bias=True)\n",
       ")"
      ]
     },
     "execution_count": 45,
     "metadata": {},
     "output_type": "execute_result"
    }
   ],
   "source": [
    "model.classifier"
   ]
  },
  {
   "cell_type": "code",
   "execution_count": 47,
   "id": "1d00151b",
   "metadata": {},
   "outputs": [],
   "source": [
    "model.classifier = nn.Sequential(\n",
    "    nn.Linear(in_features=9216, out_features=100, bias=True),\n",
    "    nn.ReLU(inplace=True),\n",
    "    nn.Dropout(p=0.5, inplace=False),\n",
    "    nn.Linear(in_features=100, out_features=2, bias=True)\n",
    ")"
   ]
  },
  {
   "cell_type": "code",
   "execution_count": 48,
   "id": "324c259c",
   "metadata": {},
   "outputs": [
    {
     "name": "stdout",
     "output_type": "stream",
     "text": [
      "AlexNet(\n",
      "  (features): Sequential(\n",
      "    (0): Conv2d(3, 64, kernel_size=(11, 11), stride=(4, 4), padding=(2, 2))\n",
      "    (1): ReLU(inplace=True)\n",
      "    (2): MaxPool2d(kernel_size=3, stride=2, padding=0, dilation=1, ceil_mode=False)\n",
      "    (3): Conv2d(64, 192, kernel_size=(5, 5), stride=(1, 1), padding=(2, 2))\n",
      "    (4): ReLU(inplace=True)\n",
      "    (5): MaxPool2d(kernel_size=3, stride=2, padding=0, dilation=1, ceil_mode=False)\n",
      "    (6): Conv2d(192, 384, kernel_size=(3, 3), stride=(1, 1), padding=(1, 1))\n",
      "    (7): ReLU(inplace=True)\n",
      "    (8): Conv2d(384, 256, kernel_size=(3, 3), stride=(1, 1), padding=(1, 1))\n",
      "    (9): ReLU(inplace=True)\n",
      "    (10): Conv2d(256, 256, kernel_size=(3, 3), stride=(1, 1), padding=(1, 1))\n",
      "    (11): ReLU(inplace=True)\n",
      "    (12): MaxPool2d(kernel_size=3, stride=2, padding=0, dilation=1, ceil_mode=False)\n",
      "  )\n",
      "  (avgpool): AdaptiveAvgPool2d(output_size=(6, 6))\n",
      "  (classifier): Sequential(\n",
      "    (0): Linear(in_features=9216, out_features=100, bias=True)\n",
      "    (1): ReLU(inplace=True)\n",
      "    (2): Dropout(p=0.5, inplace=False)\n",
      "    (3): Linear(in_features=100, out_features=2, bias=True)\n",
      "  )\n",
      ")\n"
     ]
    }
   ],
   "source": [
    "print(model)"
   ]
  },
  {
   "cell_type": "code",
   "execution_count": 49,
   "id": "d59e9014",
   "metadata": {},
   "outputs": [
    {
     "data": {
      "text/html": [
       "<style type=\"text/css\">\n",
       "</style>\n",
       "<table id=\"T_12839\">\n",
       "  <caption>Total parameters: {'trainable': 921902, 'non_trainable': 2469696}</caption>\n",
       "  <thead>\n",
       "    <tr>\n",
       "      <th class=\"blank level0\" >&nbsp;</th>\n",
       "      <th id=\"T_12839_level0_col0\" class=\"col_heading level0 col0\" >Modules</th>\n",
       "      <th id=\"T_12839_level0_col1\" class=\"col_heading level0 col1\" >Parameters</th>\n",
       "    </tr>\n",
       "  </thead>\n",
       "  <tbody>\n",
       "    <tr>\n",
       "      <th id=\"T_12839_level0_row0\" class=\"row_heading level0 row0\" >0</th>\n",
       "      <td id=\"T_12839_row0_col0\" class=\"data row0 col0\" >classifier.0.weight</td>\n",
       "      <td id=\"T_12839_row0_col1\" class=\"data row0 col1\" >classifier.0.weight</td>\n",
       "    </tr>\n",
       "    <tr>\n",
       "      <th id=\"T_12839_level0_row1\" class=\"row_heading level0 row1\" >1</th>\n",
       "      <td id=\"T_12839_row1_col0\" class=\"data row1 col0\" >classifier.0.bias</td>\n",
       "      <td id=\"T_12839_row1_col1\" class=\"data row1 col1\" >classifier.0.bias</td>\n",
       "    </tr>\n",
       "    <tr>\n",
       "      <th id=\"T_12839_level0_row2\" class=\"row_heading level0 row2\" >2</th>\n",
       "      <td id=\"T_12839_row2_col0\" class=\"data row2 col0\" >classifier.3.weight</td>\n",
       "      <td id=\"T_12839_row2_col1\" class=\"data row2 col1\" >classifier.3.weight</td>\n",
       "    </tr>\n",
       "    <tr>\n",
       "      <th id=\"T_12839_level0_row3\" class=\"row_heading level0 row3\" >3</th>\n",
       "      <td id=\"T_12839_row3_col0\" class=\"data row3 col0\" >classifier.3.bias</td>\n",
       "      <td id=\"T_12839_row3_col1\" class=\"data row3 col1\" >classifier.3.bias</td>\n",
       "    </tr>\n",
       "  </tbody>\n",
       "</table>\n"
      ],
      "text/plain": [
       "<pandas.io.formats.style.Styler at 0x2677ce06970>"
      ]
     },
     "execution_count": 49,
     "metadata": {},
     "output_type": "execute_result"
    }
   ],
   "source": [
    "count_params(model)"
   ]
  },
  {
   "cell_type": "markdown",
   "id": "7a93b032",
   "metadata": {},
   "source": [
    "## Training loop"
   ]
  },
  {
   "cell_type": "code",
   "execution_count": 50,
   "id": "b2b97208",
   "metadata": {},
   "outputs": [
    {
     "data": {
      "text/plain": [
       "AlexNet(\n",
       "  (features): Sequential(\n",
       "    (0): Conv2d(3, 64, kernel_size=(11, 11), stride=(4, 4), padding=(2, 2))\n",
       "    (1): ReLU(inplace=True)\n",
       "    (2): MaxPool2d(kernel_size=3, stride=2, padding=0, dilation=1, ceil_mode=False)\n",
       "    (3): Conv2d(64, 192, kernel_size=(5, 5), stride=(1, 1), padding=(2, 2))\n",
       "    (4): ReLU(inplace=True)\n",
       "    (5): MaxPool2d(kernel_size=3, stride=2, padding=0, dilation=1, ceil_mode=False)\n",
       "    (6): Conv2d(192, 384, kernel_size=(3, 3), stride=(1, 1), padding=(1, 1))\n",
       "    (7): ReLU(inplace=True)\n",
       "    (8): Conv2d(384, 256, kernel_size=(3, 3), stride=(1, 1), padding=(1, 1))\n",
       "    (9): ReLU(inplace=True)\n",
       "    (10): Conv2d(256, 256, kernel_size=(3, 3), stride=(1, 1), padding=(1, 1))\n",
       "    (11): ReLU(inplace=True)\n",
       "    (12): MaxPool2d(kernel_size=3, stride=2, padding=0, dilation=1, ceil_mode=False)\n",
       "  )\n",
       "  (avgpool): AdaptiveAvgPool2d(output_size=(6, 6))\n",
       "  (classifier): Sequential(\n",
       "    (0): Linear(in_features=9216, out_features=100, bias=True)\n",
       "    (1): ReLU(inplace=True)\n",
       "    (2): Dropout(p=0.5, inplace=False)\n",
       "    (3): Linear(in_features=100, out_features=2, bias=True)\n",
       "  )\n",
       ")"
      ]
     },
     "execution_count": 50,
     "metadata": {},
     "output_type": "execute_result"
    }
   ],
   "source": [
    "model.to(config.DEVICE)"
   ]
  },
  {
   "cell_type": "code",
   "execution_count": 51,
   "id": "50470ba3",
   "metadata": {},
   "outputs": [],
   "source": [
    "criterion = nn.CrossEntropyLoss()\n",
    "optimizer = torch.optim.Adam(model.parameters())"
   ]
  },
  {
   "cell_type": "code",
   "execution_count": 52,
   "id": "fc8e0a37",
   "metadata": {},
   "outputs": [
    {
     "name": "stderr",
     "output_type": "stream",
     "text": [
      "Epoch 1 / 10: 100%|█████████████████████████████████████████████████████████████████████████████████████████████| 8/8 [00:10<00:00,  1.31s/it, loss=0.849]\n",
      "Epoch 2 / 10: 100%|█████████████████████████████████████████████████████████████████████████████████████████████| 8/8 [00:09<00:00,  1.24s/it, loss=0.726]\n",
      "Epoch 3 / 10: 100%|█████████████████████████████████████████████████████████████████████████████████████████████| 8/8 [00:08<00:00,  1.11s/it, loss=0.843]\n",
      "Epoch 4 / 10: 100%|█████████████████████████████████████████████████████████████████████████████████████████████| 8/8 [00:09<00:00,  1.17s/it, loss=0.105]\n",
      "Epoch 5 / 10: 100%|████████████████████████████████████████████████████████████████████████████████████████████| 8/8 [00:09<00:00,  1.14s/it, loss=0.0767]\n",
      "Epoch 6 / 10: 100%|█████████████████████████████████████████████████████████████████████████████████████████████| 8/8 [00:09<00:00,  1.22s/it, loss=0.082]\n",
      "Epoch 7 / 10: 100%|████████████████████████████████████████████████████████████████████████████████████████████| 8/8 [00:09<00:00,  1.16s/it, loss=0.0254]\n",
      "Epoch 8 / 10: 100%|████████████████████████████████████████████████████████████████████████████████████████████| 8/8 [00:09<00:00,  1.14s/it, loss=0.0206]\n",
      "Epoch 9 / 10: 100%|████████████████████████████████████████████████████████████████████████████████████████████| 8/8 [00:08<00:00,  1.11s/it, loss=0.0498]\n",
      "Epoch 10 / 10: 100%|███████████████████████████████████████████████████████████████████████████████████████████| 8/8 [00:09<00:00,  1.14s/it, loss=0.0448]\n"
     ]
    }
   ],
   "source": [
    "for epoch in range(config.EPOCH):\n",
    "    with tqdm(train_loader) as tqdm_epoch:\n",
    "        for images, labels in tqdm_epoch:\n",
    "            tqdm_epoch.set_description(f\"Epoch {epoch + 1} / {config.EPOCH}\")\n",
    "            images = images.to(config.DEVICE)\n",
    "            labels = labels.to(config.DEVICE)\n",
    "            \n",
    "            outputs = model(images)\n",
    "            loss = criterion(outputs, labels)\n",
    "            \n",
    "            optimizer.zero_grad()\n",
    "            loss.backward()\n",
    "            optimizer.step()\n",
    "            \n",
    "            tqdm_epoch.set_postfix(loss=loss.item())\n",
    "            "
   ]
  },
  {
   "cell_type": "code",
   "execution_count": null,
   "id": "e39ccd2e",
   "metadata": {},
   "outputs": [],
   "source": []
  },
  {
   "cell_type": "markdown",
   "id": "37068afd",
   "metadata": {},
   "source": [
    "## Save our Model"
   ]
  },
  {
   "cell_type": "code",
   "execution_count": 54,
   "id": "779e7c88",
   "metadata": {},
   "outputs": [],
   "source": [
    "os.makedirs(\"model_dir\", exist_ok=True)\n",
    "model_file_path = os.path.join(\"model_dir\", \"CNN_ALEXNET_model.pth\")\n",
    "torch.save(model, model_file_path)"
   ]
  },
  {
   "cell_type": "code",
   "execution_count": null,
   "id": "18a5cce0",
   "metadata": {},
   "outputs": [],
   "source": []
  },
  {
   "cell_type": "markdown",
   "id": "e740ceb4",
   "metadata": {},
   "source": [
    "## Evaluate Model"
   ]
  },
  {
   "cell_type": "code",
   "execution_count": 55,
   "id": "eb8ac396",
   "metadata": {},
   "outputs": [],
   "source": [
    "pred = np.array([])\n",
    "target = np.array([])\n",
    "\n",
    "with torch.no_grad():\n",
    "    for batch, data in enumerate(test_loader):\n",
    "        images = data[0].to(config.DEVICE)\n",
    "        labels = data[1].to(config.DEVICE)\n",
    "        \n",
    "        y_pred = model(images)\n",
    "        \n",
    "        pred = np.concatenate((pred, torch.argmax(y_pred, 1).cpu().numpy()))\n",
    "        target = np.concatenate((target, labels.cpu().numpy()))"
   ]
  },
  {
   "cell_type": "code",
   "execution_count": 57,
   "id": "ae89e42c",
   "metadata": {},
   "outputs": [],
   "source": [
    "cm = confusion_matrix(target, pred)"
   ]
  },
  {
   "cell_type": "code",
   "execution_count": 58,
   "id": "288c17bd",
   "metadata": {},
   "outputs": [
    {
     "data": {
      "text/plain": [
       "array([[60, 10],\n",
       "       [11, 72]], dtype=int64)"
      ]
     },
     "execution_count": 58,
     "metadata": {},
     "output_type": "execute_result"
    }
   ],
   "source": [
    "cm"
   ]
  },
  {
   "cell_type": "markdown",
   "id": "c0df8e42",
   "metadata": {},
   "source": [
    "## Prediction of our model"
   ]
  },
  {
   "cell_type": "code",
   "execution_count": null,
   "id": "46d81d72",
   "metadata": {},
   "outputs": [],
   "source": []
  },
  {
   "cell_type": "code",
   "execution_count": null,
   "id": "8ba8a91e",
   "metadata": {},
   "outputs": [],
   "source": []
  },
  {
   "cell_type": "code",
   "execution_count": null,
   "id": "eb124f63",
   "metadata": {},
   "outputs": [],
   "source": []
  },
  {
   "cell_type": "code",
   "execution_count": null,
   "id": "cfbebf54",
   "metadata": {},
   "outputs": [],
   "source": []
  },
  {
   "cell_type": "code",
   "execution_count": 34,
   "id": "cc7f5b90",
   "metadata": {},
   "outputs": [],
   "source": []
  },
  {
   "cell_type": "code",
   "execution_count": null,
   "id": "ea419adc",
   "metadata": {},
   "outputs": [],
   "source": []
  }
 ],
 "metadata": {
  "kernelspec": {
   "display_name": "Python 3 (ipykernel)",
   "language": "python",
   "name": "python3"
  },
  "language_info": {
   "codemirror_mode": {
    "name": "ipython",
    "version": 3
   },
   "file_extension": ".py",
   "mimetype": "text/x-python",
   "name": "python",
   "nbconvert_exporter": "python",
   "pygments_lexer": "ipython3",
   "version": "3.9.6"
  }
 },
 "nbformat": 4,
 "nbformat_minor": 5
}
